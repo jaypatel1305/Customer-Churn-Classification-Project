{
 "cells": [
  {
   "cell_type": "code",
   "execution_count": 6,
   "id": "8c5254f8",
   "metadata": {},
   "outputs": [],
   "source": [
    "import pickle \n",
    "import pandas as pd"
   ]
  },
  {
   "cell_type": "code",
   "execution_count": 7,
   "id": "33c283db",
   "metadata": {},
   "outputs": [],
   "source": [
    "with open(file=\"final_model.sav\",mode=\"rb\") as f1:\n",
    "    model = pickle.load(f1)"
   ]
  },
  {
   "cell_type": "code",
   "execution_count": 8,
   "id": "75ff0ce1",
   "metadata": {},
   "outputs": [
    {
     "data": {
      "text/html": [
       "<style>#sk-container-id-2 {color: black;background-color: white;}#sk-container-id-2 pre{padding: 0;}#sk-container-id-2 div.sk-toggleable {background-color: white;}#sk-container-id-2 label.sk-toggleable__label {cursor: pointer;display: block;width: 100%;margin-bottom: 0;padding: 0.3em;box-sizing: border-box;text-align: center;}#sk-container-id-2 label.sk-toggleable__label-arrow:before {content: \"▸\";float: left;margin-right: 0.25em;color: #696969;}#sk-container-id-2 label.sk-toggleable__label-arrow:hover:before {color: black;}#sk-container-id-2 div.sk-estimator:hover label.sk-toggleable__label-arrow:before {color: black;}#sk-container-id-2 div.sk-toggleable__content {max-height: 0;max-width: 0;overflow: hidden;text-align: left;background-color: #f0f8ff;}#sk-container-id-2 div.sk-toggleable__content pre {margin: 0.2em;color: black;border-radius: 0.25em;background-color: #f0f8ff;}#sk-container-id-2 input.sk-toggleable__control:checked~div.sk-toggleable__content {max-height: 200px;max-width: 100%;overflow: auto;}#sk-container-id-2 input.sk-toggleable__control:checked~label.sk-toggleable__label-arrow:before {content: \"▾\";}#sk-container-id-2 div.sk-estimator input.sk-toggleable__control:checked~label.sk-toggleable__label {background-color: #d4ebff;}#sk-container-id-2 div.sk-label input.sk-toggleable__control:checked~label.sk-toggleable__label {background-color: #d4ebff;}#sk-container-id-2 input.sk-hidden--visually {border: 0;clip: rect(1px 1px 1px 1px);clip: rect(1px, 1px, 1px, 1px);height: 1px;margin: -1px;overflow: hidden;padding: 0;position: absolute;width: 1px;}#sk-container-id-2 div.sk-estimator {font-family: monospace;background-color: #f0f8ff;border: 1px dotted black;border-radius: 0.25em;box-sizing: border-box;margin-bottom: 0.5em;}#sk-container-id-2 div.sk-estimator:hover {background-color: #d4ebff;}#sk-container-id-2 div.sk-parallel-item::after {content: \"\";width: 100%;border-bottom: 1px solid gray;flex-grow: 1;}#sk-container-id-2 div.sk-label:hover label.sk-toggleable__label {background-color: #d4ebff;}#sk-container-id-2 div.sk-serial::before {content: \"\";position: absolute;border-left: 1px solid gray;box-sizing: border-box;top: 0;bottom: 0;left: 50%;z-index: 0;}#sk-container-id-2 div.sk-serial {display: flex;flex-direction: column;align-items: center;background-color: white;padding-right: 0.2em;padding-left: 0.2em;position: relative;}#sk-container-id-2 div.sk-item {position: relative;z-index: 1;}#sk-container-id-2 div.sk-parallel {display: flex;align-items: stretch;justify-content: center;background-color: white;position: relative;}#sk-container-id-2 div.sk-item::before, #sk-container-id-2 div.sk-parallel-item::before {content: \"\";position: absolute;border-left: 1px solid gray;box-sizing: border-box;top: 0;bottom: 0;left: 50%;z-index: -1;}#sk-container-id-2 div.sk-parallel-item {display: flex;flex-direction: column;z-index: 1;position: relative;background-color: white;}#sk-container-id-2 div.sk-parallel-item:first-child::after {align-self: flex-end;width: 50%;}#sk-container-id-2 div.sk-parallel-item:last-child::after {align-self: flex-start;width: 50%;}#sk-container-id-2 div.sk-parallel-item:only-child::after {width: 0;}#sk-container-id-2 div.sk-dashed-wrapped {border: 1px dashed gray;margin: 0 0.4em 0.5em 0.4em;box-sizing: border-box;padding-bottom: 0.4em;background-color: white;}#sk-container-id-2 div.sk-label label {font-family: monospace;font-weight: bold;display: inline-block;line-height: 1.2em;}#sk-container-id-2 div.sk-label-container {text-align: center;}#sk-container-id-2 div.sk-container {/* jupyter's `normalize.less` sets `[hidden] { display: none; }` but bootstrap.min.css set `[hidden] { display: none !important; }` so we also need the `!important` here to be able to override the default hidden behavior on the sphinx rendered scikit-learn.org. See: https://github.com/scikit-learn/scikit-learn/issues/21755 */display: inline-block !important;position: relative;}#sk-container-id-2 div.sk-text-repr-fallback {display: none;}</style><div id=\"sk-container-id-2\" class=\"sk-top-container\"><div class=\"sk-text-repr-fallback\"><pre>Pipeline(steps=[(&#x27;mapper&#x27;,\n",
       "                 DataFrameMapper(drop_cols=[],\n",
       "                                 features=[(&#x27;PaperlessBilling&#x27;, LabelEncoder(),\n",
       "                                            {}),\n",
       "                                           (&#x27;PaymentMethod&#x27;, LabelEncoder(),\n",
       "                                            {}),\n",
       "                                           (&#x27;Partner&#x27;, LabelEncoder(), {}),\n",
       "                                           (&#x27;Dependents&#x27;, LabelEncoder(), {}),\n",
       "                                           (&#x27;StreamingTV&#x27;, LabelEncoder(), {}),\n",
       "                                           (&#x27;StreamingMovies&#x27;, LabelEncoder(),\n",
       "                                            {}),\n",
       "                                           (&#x27;OnlineSecurity&#x27;, LabelEncoder(),\n",
       "                                            {}),\n",
       "                                           (&#x27;OnlineBackup&#x27;, LabelEncoder(), {}),\n",
       "                                           (&#x27;DeviceProtection&#x27;, LabelEncoder(),\n",
       "                                            {}),\n",
       "                                           (&#x27;TechSupport&#x27;, LabelEncoder(), {}),\n",
       "                                           (&#x27;Contract&#x27;, LabelEncoder(), {})])),\n",
       "                (&#x27;standardize&#x27;, StandardScaler()),\n",
       "                (&#x27;model&#x27;, RandomForestClassifier(criterion=&#x27;entropy&#x27;))])</pre><b>In a Jupyter environment, please rerun this cell to show the HTML representation or trust the notebook. <br />On GitHub, the HTML representation is unable to render, please try loading this page with nbviewer.org.</b></div><div class=\"sk-container\" hidden><div class=\"sk-item sk-dashed-wrapped\"><div class=\"sk-label-container\"><div class=\"sk-label sk-toggleable\"><input class=\"sk-toggleable__control sk-hidden--visually\" id=\"sk-estimator-id-5\" type=\"checkbox\" ><label for=\"sk-estimator-id-5\" class=\"sk-toggleable__label sk-toggleable__label-arrow\">Pipeline</label><div class=\"sk-toggleable__content\"><pre>Pipeline(steps=[(&#x27;mapper&#x27;,\n",
       "                 DataFrameMapper(drop_cols=[],\n",
       "                                 features=[(&#x27;PaperlessBilling&#x27;, LabelEncoder(),\n",
       "                                            {}),\n",
       "                                           (&#x27;PaymentMethod&#x27;, LabelEncoder(),\n",
       "                                            {}),\n",
       "                                           (&#x27;Partner&#x27;, LabelEncoder(), {}),\n",
       "                                           (&#x27;Dependents&#x27;, LabelEncoder(), {}),\n",
       "                                           (&#x27;StreamingTV&#x27;, LabelEncoder(), {}),\n",
       "                                           (&#x27;StreamingMovies&#x27;, LabelEncoder(),\n",
       "                                            {}),\n",
       "                                           (&#x27;OnlineSecurity&#x27;, LabelEncoder(),\n",
       "                                            {}),\n",
       "                                           (&#x27;OnlineBackup&#x27;, LabelEncoder(), {}),\n",
       "                                           (&#x27;DeviceProtection&#x27;, LabelEncoder(),\n",
       "                                            {}),\n",
       "                                           (&#x27;TechSupport&#x27;, LabelEncoder(), {}),\n",
       "                                           (&#x27;Contract&#x27;, LabelEncoder(), {})])),\n",
       "                (&#x27;standardize&#x27;, StandardScaler()),\n",
       "                (&#x27;model&#x27;, RandomForestClassifier(criterion=&#x27;entropy&#x27;))])</pre></div></div></div><div class=\"sk-serial\"><div class=\"sk-item\"><div class=\"sk-estimator sk-toggleable\"><input class=\"sk-toggleable__control sk-hidden--visually\" id=\"sk-estimator-id-6\" type=\"checkbox\" ><label for=\"sk-estimator-id-6\" class=\"sk-toggleable__label sk-toggleable__label-arrow\">DataFrameMapper</label><div class=\"sk-toggleable__content\"><pre>DataFrameMapper(drop_cols=[],\n",
       "                features=[(&#x27;PaperlessBilling&#x27;, LabelEncoder(), {}),\n",
       "                          (&#x27;PaymentMethod&#x27;, LabelEncoder(), {}),\n",
       "                          (&#x27;Partner&#x27;, LabelEncoder(), {}),\n",
       "                          (&#x27;Dependents&#x27;, LabelEncoder(), {}),\n",
       "                          (&#x27;StreamingTV&#x27;, LabelEncoder(), {}),\n",
       "                          (&#x27;StreamingMovies&#x27;, LabelEncoder(), {}),\n",
       "                          (&#x27;OnlineSecurity&#x27;, LabelEncoder(), {}),\n",
       "                          (&#x27;OnlineBackup&#x27;, LabelEncoder(), {}),\n",
       "                          (&#x27;DeviceProtection&#x27;, LabelEncoder(), {}),\n",
       "                          (&#x27;TechSupport&#x27;, LabelEncoder(), {}),\n",
       "                          (&#x27;Contract&#x27;, LabelEncoder(), {})])</pre></div></div></div><div class=\"sk-item\"><div class=\"sk-estimator sk-toggleable\"><input class=\"sk-toggleable__control sk-hidden--visually\" id=\"sk-estimator-id-7\" type=\"checkbox\" ><label for=\"sk-estimator-id-7\" class=\"sk-toggleable__label sk-toggleable__label-arrow\">StandardScaler</label><div class=\"sk-toggleable__content\"><pre>StandardScaler()</pre></div></div></div><div class=\"sk-item\"><div class=\"sk-estimator sk-toggleable\"><input class=\"sk-toggleable__control sk-hidden--visually\" id=\"sk-estimator-id-8\" type=\"checkbox\" ><label for=\"sk-estimator-id-8\" class=\"sk-toggleable__label sk-toggleable__label-arrow\">RandomForestClassifier</label><div class=\"sk-toggleable__content\"><pre>RandomForestClassifier(criterion=&#x27;entropy&#x27;)</pre></div></div></div></div></div></div></div>"
      ],
      "text/plain": [
       "Pipeline(steps=[('mapper',\n",
       "                 DataFrameMapper(drop_cols=[],\n",
       "                                 features=[('PaperlessBilling', LabelEncoder(),\n",
       "                                            {}),\n",
       "                                           ('PaymentMethod', LabelEncoder(),\n",
       "                                            {}),\n",
       "                                           ('Partner', LabelEncoder(), {}),\n",
       "                                           ('Dependents', LabelEncoder(), {}),\n",
       "                                           ('StreamingTV', LabelEncoder(), {}),\n",
       "                                           ('StreamingMovies', LabelEncoder(),\n",
       "                                            {}),\n",
       "                                           ('OnlineSecurity', LabelEncoder(),\n",
       "                                            {}),\n",
       "                                           ('OnlineBackup', LabelEncoder(), {}),\n",
       "                                           ('DeviceProtection', LabelEncoder(),\n",
       "                                            {}),\n",
       "                                           ('TechSupport', LabelEncoder(), {}),\n",
       "                                           ('Contract', LabelEncoder(), {})])),\n",
       "                ('standardize', StandardScaler()),\n",
       "                ('model', RandomForestClassifier(criterion='entropy'))])"
      ]
     },
     "execution_count": 8,
     "metadata": {},
     "output_type": "execute_result"
    }
   ],
   "source": [
    "model"
   ]
  },
  {
   "cell_type": "code",
   "execution_count": 9,
   "id": "20e9343e",
   "metadata": {},
   "outputs": [],
   "source": [
    "new = {'SeniorCitizen': 0,\n",
    " 'Partner': 'No',\n",
    " 'Dependents': 'No',\n",
    " 'tenure': 34,\n",
    " 'OnlineSecurity': 'Yes',\n",
    " 'OnlineBackup': 'No',\n",
    " 'DeviceProtection': 'Yes',\n",
    " 'TechSupport': 'No',\n",
    " 'StreamingTV': 'No',\n",
    " 'StreamingMovies': 'No',\n",
    " 'Contract': 'One year',\n",
    " 'PaperlessBilling': 'No',\n",
    " 'PaymentMethod': 'Mailed check',\n",
    " 'MonthlyCharges': 56.95,\n",
    " 'TotalCharges': 1889.5,\n",
    "    }"
   ]
  },
  {
   "cell_type": "code",
   "execution_count": 10,
   "id": "6b84e04e",
   "metadata": {},
   "outputs": [],
   "source": [
    "data = pd.DataFrame(new,index=[0])"
   ]
  },
  {
   "cell_type": "code",
   "execution_count": 11,
   "id": "d9f72ef7",
   "metadata": {},
   "outputs": [
    {
     "data": {
      "text/html": [
       "<div>\n",
       "<style scoped>\n",
       "    .dataframe tbody tr th:only-of-type {\n",
       "        vertical-align: middle;\n",
       "    }\n",
       "\n",
       "    .dataframe tbody tr th {\n",
       "        vertical-align: top;\n",
       "    }\n",
       "\n",
       "    .dataframe thead th {\n",
       "        text-align: right;\n",
       "    }\n",
       "</style>\n",
       "<table border=\"1\" class=\"dataframe\">\n",
       "  <thead>\n",
       "    <tr style=\"text-align: right;\">\n",
       "      <th></th>\n",
       "      <th>SeniorCitizen</th>\n",
       "      <th>Partner</th>\n",
       "      <th>Dependents</th>\n",
       "      <th>tenure</th>\n",
       "      <th>OnlineSecurity</th>\n",
       "      <th>OnlineBackup</th>\n",
       "      <th>DeviceProtection</th>\n",
       "      <th>TechSupport</th>\n",
       "      <th>StreamingTV</th>\n",
       "      <th>StreamingMovies</th>\n",
       "      <th>Contract</th>\n",
       "      <th>PaperlessBilling</th>\n",
       "      <th>PaymentMethod</th>\n",
       "      <th>MonthlyCharges</th>\n",
       "      <th>TotalCharges</th>\n",
       "    </tr>\n",
       "  </thead>\n",
       "  <tbody>\n",
       "    <tr>\n",
       "      <th>0</th>\n",
       "      <td>0</td>\n",
       "      <td>No</td>\n",
       "      <td>No</td>\n",
       "      <td>34</td>\n",
       "      <td>Yes</td>\n",
       "      <td>No</td>\n",
       "      <td>Yes</td>\n",
       "      <td>No</td>\n",
       "      <td>No</td>\n",
       "      <td>No</td>\n",
       "      <td>One year</td>\n",
       "      <td>No</td>\n",
       "      <td>Mailed check</td>\n",
       "      <td>56.95</td>\n",
       "      <td>1889.5</td>\n",
       "    </tr>\n",
       "  </tbody>\n",
       "</table>\n",
       "</div>"
      ],
      "text/plain": [
       "   SeniorCitizen Partner Dependents  tenure OnlineSecurity OnlineBackup  \\\n",
       "0              0      No         No      34            Yes           No   \n",
       "\n",
       "  DeviceProtection TechSupport StreamingTV StreamingMovies  Contract  \\\n",
       "0              Yes          No          No              No  One year   \n",
       "\n",
       "  PaperlessBilling PaymentMethod  MonthlyCharges  TotalCharges  \n",
       "0               No  Mailed check           56.95        1889.5  "
      ]
     },
     "execution_count": 11,
     "metadata": {},
     "output_type": "execute_result"
    }
   ],
   "source": [
    "data"
   ]
  },
  {
   "cell_type": "code",
   "execution_count": 12,
   "id": "a4d666f9",
   "metadata": {},
   "outputs": [
    {
     "data": {
      "text/plain": [
       "array(['No'], dtype=object)"
      ]
     },
     "execution_count": 12,
     "metadata": {},
     "output_type": "execute_result"
    }
   ],
   "source": [
    "model.predict(data)"
   ]
  },
  {
   "cell_type": "code",
   "execution_count": null,
   "id": "964e62a3",
   "metadata": {},
   "outputs": [],
   "source": []
  }
 ],
 "metadata": {
  "kernelspec": {
   "display_name": "Python 3 (ipykernel)",
   "language": "python",
   "name": "python3"
  },
  "language_info": {
   "codemirror_mode": {
    "name": "ipython",
    "version": 3
   },
   "file_extension": ".py",
   "mimetype": "text/x-python",
   "name": "python",
   "nbconvert_exporter": "python",
   "pygments_lexer": "ipython3",
   "version": "3.10.4"
  }
 },
 "nbformat": 4,
 "nbformat_minor": 5
}
